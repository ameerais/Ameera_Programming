# WeatherPy.ipynb

# Import required libraries
import requests
import pandas as pd
import numpy as np
from citipy import citipy
import matplotlib.pyplot as plt
from scipy.stats import linregress
from api_keys import weather_api_key

# Generate random geographic coordinates
lats = np.random.uniform(low=-90.0, high=90.0, size=1500)
lngs = np.random.uniform(low=-180.0, high=180.0, size=1500)
coordinates = list(zip(lats, lngs))

# Find the nearest city for each coordinate
cities = []
for coordinate in coordinates:
    city = citipy.nearest_city(coordinate[0], coordinate[1]).city_name
    if city not in cities:
        cities.append(city)

# Get weather data for each city
weather_data = []
for city in cities:
    url = f"http://api.openweathermap.org/data/2.5/weather?q={city}&appid={weather_api_key}&units=metric"
    response = requests.get(url).json()
    try:
        weather = {
            "City": city,
            "Lat": response["coord"]["lat"],
            "Lng": response["coord"]["lon"],
            "Temperature": response["main"]["temp"],
            "Humidity": response["main"]["humidity"],
            "Cloudiness": response["clouds"]["all"],
            "Wind Speed": response["wind"]["speed"]
        }
        weather_data.append(weather)
    except KeyError:
        pass

# Create DataFrame
city_data_df = pd.DataFrame(weather_data)

# Create scatter plots
plt.figure(figsize=(10,6))

# Latitude vs. Temperature
plt.scatter(city_data_df["Lat"], city_data_df["Temperature"], edgecolors='black', alpha=0.75)
plt.title('City Latitude vs. Temperature')
plt.xlabel('Latitude')
plt.ylabel('Temperature (C)')
plt.grid(True)
plt.show()

# Latitude vs. Humidity
plt.scatter(city_data_df["Lat"], city_data_df["Humidity"], edgecolors='black', alpha=0.75)
plt.title('City Latitude vs. Humidity')
plt.xlabel('Latitude')
plt.ylabel('Humidity (%)')
plt.grid(True)
plt.show()

# Latitude vs. Cloudiness
plt.scatter(city_data_df["Lat"], city_data_df["Cloudiness"], edgecolors='black', alpha=0.75)
plt.title('City Latitude vs. Cloudiness')
plt.xlabel('Latitude')
plt.ylabel('Cloudiness (%)')
plt.grid(True)
plt.show()

# Latitude vs. Wind Speed
plt.scatter(city_data_df["Lat"], city_data_df["Wind Speed"], edgecolors='black', alpha=0.75)
plt.title('City Latitude vs. Wind Speed')
plt.xlabel('Latitude')
plt.ylabel('Wind Speed (m/s)')
plt.grid(True)
plt.show()

# Define function to create linear regression plots
def plot_linear_regression(x_values, y_values, title, xlabel, ylabel):
    (slope, intercept, rvalue, pvalue, stderr) = linregress(x_values, y_values)
    regress_values = x_values * slope + intercept
    line_eq = f"y = {slope:.2f}x + {intercept:.2f}"
    
    plt.scatter(x_values, y_values, edgecolors='black', alpha=0.75)
    plt.plot(x_values, regress_values, "r-")
    plt.title(f'{title}\n{line_eq}\nR^2 = {rvalue**2:.2f}')
    plt.xlabel(xlabel)
    plt.ylabel(ylabel)
    plt.grid(True)
    plt.show()

# Separate data into Northern and Southern Hemispheres
northern_hemi_df = city_data_df.loc[city_data_df["Lat"] >= 0]
southern_hemi_df = city_data_df.loc[city_data_df["Lat"] < 0]

# Northern Hemisphere: Temperature vs. Latitude
plot_linear_regression(northern_hemi_df["Lat"], northern_hemi_df["Temperature"], 
                       'Northern Hemisphere: Temperature vs. Latitude', 'Latitude', 'Temperature (C)')

# Southern Hemisphere: Temperature vs. Latitude
plot_linear_regression(southern_hemi_df["Lat"], southern_hemi_df["Temperature"], 
                       'Southern Hemisphere: Temperature vs. Latitude', 'Latitude', 'Temperature (C)')

# Northern Hemisphere: Humidity vs. Latitude
plot_linear_regression(northern_hemi_df["Lat"], northern_hemi_df["Humidity"], 
                       'Northern Hemisphere: Humidity vs. Latitude', 'Latitude', 'Humidity (%)')

# Southern Hemisphere: Humidity vs. Latitude
plot_linear_regression(southern_hemi_df["Lat"], southern_hemi_df["Humidity"], 
                       'Southern Hemisphere: Humidity vs. Latitude', 'Latitude', 'Humidity (%)')

# Northern Hemisphere: Cloudiness vs. Latitude
plot_linear_regression(northern_hemi_df["Lat"], northern_hemi_df["Cloudiness"], 
                       'Northern Hemisphere: Cloudiness vs. Latitude', 'Latitude', 'Cloudiness (%)')

# Southern Hemisphere: Cloudiness vs. Latitude
plot_linear_regression(southern_hemi_df["Lat"], southern_hemi_df["Cloudiness"], 
                       'Southern Hemisphere: Cloudiness vs. Latitude', 'Latitude', 'Cloudiness (%)')

# Northern Hemisphere: Wind Speed vs. Latitude
plot_linear_regression(northern_hemi_df["Lat"], northern_hemi_df["Wind Speed"], 
                       'Northern Hemisphere: Wind Speed vs. Latitude', 'Latitude', 'Wind Speed (m/s)')

# Southern Hemisphere: Wind Speed vs. Latitude
plot_linear_regression(southern_hemi_df["Lat"], southern_hemi_df["Wind Speed"], 
                       'Southern Hemisphere: Wind Speed vs. Latitude', 'Latitude', 'Wind Speed (m/s)')
