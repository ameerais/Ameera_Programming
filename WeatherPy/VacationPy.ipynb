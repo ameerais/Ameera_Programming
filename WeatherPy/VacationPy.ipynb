# VacationPy.ipynb

# Import required libraries
import pandas as pd
import requests
import geoviews as gv
from geoviews import opts
import hvplot.pandas
from api_keys import geoapify_key

# Load city data
city_data_df = pd.read_csv("city_data.csv")

# Create a map that displays a point for every city
points = city_data_df.hvplot.points(
    "Lng", "Lat", 
    size="Humidity", 
    color="City", 
    frame_width=700, 
    frame_height=500, 
    title="City Humidity", 
    hover_cols=["City", "Country", "Humidity"]
)
points.opts(opts.Points(tools=['hover'], size=10))

# Narrow down DataFrame to find ideal weather conditions
ideal_conditions_df = city_data_df.loc[
    (city_data_df["Max Temp"] > 21) & 
    (city_data_df["Max Temp"] < 27) & 
    (city_data_df["Wind Speed"] < 4.5) & 
    (city_data_df["Cloudiness"] == 0)
]

# Create hotel_df to store city, country, coordinates, and humidity
hotel_df = ideal_conditions_df[["City", "Country", "Lat", "Lng", "Humidity"]].copy()

# Find the first hotel for each city
def get_nearest_hotel(lat, lng):
    url = f"https://api.geoapify.com/v2/places?categories=accommodation.hotel&filter=circle:{lng},{lat},10000&limit=1&apiKey={geoapify_key}"
    response = requests.get(url).json()
    try:
        hotel_name = response["features"][0]["properties"]["name"]
        return hotel_name
    except (KeyError, IndexError):
        return None

hotel_df["Hotel Name"] = hotel_df.apply(lambda row: get_nearest_hotel(row["Lat"], row["Lng"]), axis=1)

# Remove rows with no hotel found
hotel_df.dropna(subset=["Hotel Name"], inplace=True)

# Create map with hotel information
hotel_points = hotel_df.hvplot.points(
    "Lng", "Lat", 
    size="Humidity", 
    color="City", 
    frame_width=700, 
    frame_height=500, 
    title="Hotel Locations", 
    hover_cols=["City", "Country", "Hotel Name", "Humidity"]
)
hotel_points.opts(opts.Points(tools=['hover'], size=10))
hotel_points
